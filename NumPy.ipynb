{
 "cells": [
  {
   "cell_type": "markdown",
   "id": "885a5750",
   "metadata": {},
   "source": [
    "# Create a null vector of size 10 but the fifth value which is 1. "
   ]
  },
  {
   "cell_type": "code",
   "execution_count": 1,
   "id": "f77591c8",
   "metadata": {},
   "outputs": [
    {
     "name": "stdout",
     "output_type": "stream",
     "text": [
      "[0. 0. 0. 0. 1. 0. 0. 0. 0. 0.]\n"
     ]
    }
   ],
   "source": [
    "import numpy as np\n",
    "\n",
    "arr = np.zeros(10)\n",
    "arr[4] = 1\n",
    "print(arr)"
   ]
  },
  {
   "cell_type": "markdown",
   "id": "c4af854c",
   "metadata": {},
   "source": [
    "# Create a vector with values ranging from 10 to 49."
   ]
  },
  {
   "cell_type": "code",
   "execution_count": 3,
   "id": "ea106239",
   "metadata": {},
   "outputs": [
    {
     "name": "stdout",
     "output_type": "stream",
     "text": [
      "[10 11 12 13 14 15 16 17 18 19 20 21 22 23 24 25 26 27 28 29 30 31 32 33\n",
      " 34 35 36 37 38 39 40 41 42 43 44 45 46 47 48 49]\n"
     ]
    }
   ],
   "source": [
    "arr=np.arange(10,50)\n",
    "print(arr)"
   ]
  },
  {
   "cell_type": "markdown",
   "id": "fd9f6a2e",
   "metadata": {},
   "source": [
    "# Create a 3 x 3 matrix with values ranging from 0 to 8"
   ]
  },
  {
   "cell_type": "code",
   "execution_count": 4,
   "id": "940a7701",
   "metadata": {},
   "outputs": [
    {
     "name": "stdout",
     "output_type": "stream",
     "text": [
      "[[0 1 2]\n",
      " [3 4 5]\n",
      " [6 7 8]]\n"
     ]
    }
   ],
   "source": [
    "arr=np.arange(0,9).reshape(3,3)\n",
    "print(arr)"
   ]
  },
  {
   "cell_type": "markdown",
   "id": "62ab1169",
   "metadata": {},
   "source": [
    "# Find indices of non-zero elemnets from [1,2,0,0,4,0]"
   ]
  },
  {
   "cell_type": "code",
   "execution_count": 5,
   "id": "371c3209",
   "metadata": {},
   "outputs": [
    {
     "name": "stdout",
     "output_type": "stream",
     "text": [
      "(array([0, 1, 4], dtype=int64),)\n"
     ]
    }
   ],
   "source": [
    "arr=np.array([1,2,0,0,4,0])\n",
    "print(arr.nonzero())"
   ]
  },
  {
   "cell_type": "markdown",
   "id": "989ac1e0",
   "metadata": {},
   "source": [
    "# Create a 10 x 10 array with random values and find the minimum and maximum values  "
   ]
  },
  {
   "cell_type": "code",
   "execution_count": 6,
   "id": "1f427f5d",
   "metadata": {},
   "outputs": [
    {
     "name": "stdout",
     "output_type": "stream",
     "text": [
      "[[0.70819549 0.72053403 0.09144149 0.61024835 0.49366305 0.91808162\n",
      "  0.33100833 0.14043825 0.3024541  0.62603061]\n",
      " [0.20261762 0.20156264 0.94335829 0.97387473 0.76491477 0.87101062\n",
      "  0.97956975 0.1343876  0.32016376 0.77984313]\n",
      " [0.34773729 0.84151238 0.97401077 0.18028825 0.03021846 0.67772919\n",
      "  0.4535597  0.02144837 0.64118355 0.75973454]\n",
      " [0.24918459 0.16577654 0.5827668  0.85641657 0.28688215 0.62066176\n",
      "  0.9595944  0.1279499  0.82735292 0.5486624 ]\n",
      " [0.00766915 0.07959739 0.83900876 0.69663547 0.92042522 0.14160104\n",
      "  0.09996417 0.19508178 0.08515168 0.32310859]\n",
      " [0.60372963 0.41204865 0.47927785 0.82125798 0.75823624 0.13019364\n",
      "  0.83737099 0.07854146 0.10405228 0.36668087]\n",
      " [0.97770364 0.53560321 0.49921932 0.6619598  0.30996532 0.8291377\n",
      "  0.12874001 0.03457042 0.23876894 0.23885782]\n",
      " [0.4642166  0.25149241 0.98429025 0.56905575 0.02939302 0.0244981\n",
      "  0.44149543 0.9049846  0.90313067 0.3079857 ]\n",
      " [0.02719547 0.8776681  0.00292814 0.0049112  0.03843693 0.74475422\n",
      "  0.78701063 0.42245793 0.91910129 0.57214658]\n",
      " [0.55795383 0.82905117 0.65160492 0.40567173 0.60206185 0.80017248\n",
      "  0.18227956 0.22261903 0.69585918 0.21691794]]\n",
      "0.9842902541052051 0.002928135477272442\n"
     ]
    }
   ],
   "source": [
    "arr=np.random.rand(10,10)\n",
    "print(arr)\n",
    "print(arr.max(),arr.min())"
   ]
  },
  {
   "cell_type": "markdown",
   "id": "b3c3fe48",
   "metadata": {},
   "source": [
    "# Create a random vector of size 30 and find the mean value "
   ]
  },
  {
   "cell_type": "code",
   "execution_count": 7,
   "id": "58c0c050",
   "metadata": {},
   "outputs": [
    {
     "name": "stdout",
     "output_type": "stream",
     "text": [
      "[0.65893189 0.73812256 0.422144   0.624596   0.59066237 0.39491171\n",
      " 0.97387222 0.65380192 0.97457964 0.83950134 0.76920927 0.52711234\n",
      " 0.94298213 0.72372385 0.57447404 0.09153561 0.9907107  0.92408776\n",
      " 0.26717211 0.31468577 0.56791744 0.77375112 0.29268593 0.82284512\n",
      " 0.9381228  0.88511478 0.15149581 0.97544084 0.7055483  0.78687582]\n",
      "0.6632205061536047\n"
     ]
    }
   ],
   "source": [
    "arr=np.random.rand(30)\n",
    "print(arr)\n",
    "print(arr.mean())"
   ]
  },
  {
   "cell_type": "code",
   "execution_count": null,
   "id": "7976f8e3",
   "metadata": {},
   "outputs": [],
   "source": []
  }
 ],
 "metadata": {
  "kernelspec": {
   "display_name": "Python 3",
   "language": "python",
   "name": "python3"
  },
  "language_info": {
   "codemirror_mode": {
    "name": "ipython",
    "version": 3
   },
   "file_extension": ".py",
   "mimetype": "text/x-python",
   "name": "python",
   "nbconvert_exporter": "python",
   "pygments_lexer": "ipython3",
   "version": "3.8.8"
  }
 },
 "nbformat": 4,
 "nbformat_minor": 5
}
